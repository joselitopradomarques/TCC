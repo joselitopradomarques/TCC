{
 "cells": [
  {
   "cell_type": "markdown",
   "metadata": {},
   "source": [
    "Notebook relativo ao método Single Value Decomposition (SVD)\n",
    "\n",
    "- Descrição do notebook:\n",
    "    - Descrição das funções utilizadas:\n",
    "        - Aquisição do sinal\n",
    "            - Input: Arquivos .edf\n",
    "            - Output: Array com os valores no range 0 a 255 (uint8)\n",
    "        - Processar o SVD\n",
    "            - Input: Array\n",
    "            - Output: Obter os valores da matriz K\n",
    "        - Realizar a compressão\n",
    "- Input: \n",
    "    - Arquivos .edf\n",
    "- Outputs: Análise das compressões\n",
    "    - Talvez exemplares das imagens comprimidas para posterior comparação empírica\n",
    "    - Taxas de compressão para samples de compressão\n",
    "    - Outros parâmetros para avaliar a compressão\n",
    "\n",
    "- To add:\n",
    "    - Parâmetros de compressão"
   ]
  },
  {
   "cell_type": "markdown",
   "metadata": {},
   "source": [
    "- Aquisição dos sinais"
   ]
  },
  {
   "cell_type": "code",
   "execution_count": null,
   "metadata": {},
   "outputs": [],
   "source": []
  }
 ],
 "metadata": {
  "kernelspec": {
   "display_name": "Python 3",
   "language": "python",
   "name": "python3"
  },
  "language_info": {
   "codemirror_mode": {
    "name": "ipython",
    "version": 3
   },
   "file_extension": ".py",
   "mimetype": "text/x-python",
   "name": "python",
   "nbconvert_exporter": "python",
   "pygments_lexer": "ipython3",
   "version": "3.8.3"
  }
 },
 "nbformat": 4,
 "nbformat_minor": 4
}
